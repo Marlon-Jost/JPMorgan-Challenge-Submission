{
 "cells": [
  {
   "cell_type": "markdown",
   "metadata": {},
   "source": [
    "# 🚀 Welcome to JPMorgan Challenge Submission\n",
    "\n",
    "Greetings from the **Qvengers Team**! 💥  \n",
    "**Members:**  \n",
    "- Andrew Maciejunes  \n",
    "- Marlon Jost  \n",
    "- Andrei Chupakhin  \n",
    "- Pranik Chainani  \n",
    "- Vlad Gaylun  "
   ]
  },
  {
   "cell_type": "markdown",
   "metadata": {},
   "source": [
    "## ⚙️ Step 1: Install dependencies\n",
    "\n",
    "Before running any code, please install the required Python packages.\n",
    "\n",
    "Open a **terminal** in the left sidebar (or add a new code cell below) and run:\n",
    "\n",
    "```bash\n",
    "$ bash postStart.sh\n",
    "\n",
    "```\n"
   ]
  },
  {
   "cell_type": "code",
   "execution_count": null,
   "metadata": {},
   "outputs": [],
   "source": [
    "!bash postStart.sh"
   ]
  },
  {
   "cell_type": "markdown",
   "metadata": {},
   "source": [
    "## ✅ Step 2: You're ready!\n",
    "\n",
    "Once dependencies are installed, you're ready to:\n",
    "\n",
    "- Run training scripts or notebooks\n",
    "- Modify graph or quantum circuit code\n",
    "- Track experiments using W&B (Weights & Biases)\n",
    "- Have fun exploring quantum ML!\n",
    "\n",
    "If you need help, check the `README.md` or explore other notebooks in this repository."
   ]
  },
  {
   "cell_type": "markdown",
   "metadata": {},
   "source": [
    "## 📂 Other Notebooks\n",
    "\n",
    "You can open these notebooks manually from the left sidebar, or click below if running inside qBraid Lab:\n",
    "\n",
    "- [GPT vs QOkit benchmark](./benchmarks/benchmark_A.py)\n",
    "- [Process results for benchmark A ](./benchmarks/process_results.ipynb)\n",
    "- [Decomposition pipeline ](./benchmarks/decomposition_pipeline.ipynb)\n",
    "- [Partitioning with GPT ](./benchmarks/run_partitioning_GPT.ipynb)"
   ]
  }
 ],
 "metadata": {
  "kernelspec": {
   "display_name": "Python 3.10.6 ('base')",
   "language": "python",
   "name": "python3"
  },
  "language_info": {
   "codemirror_mode": {
    "name": "ipython",
    "version": 3
   },
   "file_extension": ".py",
   "mimetype": "text/x-python",
   "name": "python",
   "nbconvert_exporter": "python",
   "pygments_lexer": "ipython3",
   "version": "3.10.6"
  },
  "orig_nbformat": 4,
  "vscode": {
   "interpreter": {
    "hash": "f4a5cafb3a6059f71abfe02f003db547cc659036b80a5f94b4cfba1d186d1f3f"
   }
  }
 },
 "nbformat": 4,
 "nbformat_minor": 2
}
