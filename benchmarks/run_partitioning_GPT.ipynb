{
 "cells": [
  {
   "cell_type": "code",
   "execution_count": 7,
   "id": "d3132c5d",
   "metadata": {},
   "outputs": [],
   "source": [
    "import sys\n",
    "sys.path.append(\"../partitioning\")"
   ]
  },
  {
   "cell_type": "code",
   "execution_count": 11,
   "id": "c70e6c04",
   "metadata": {},
   "outputs": [
    {
     "name": "stdout",
     "output_type": "stream",
     "text": [
      "Loading graph from benchmarking graphs\\subgraph_150.pickle...\n",
      "Loaded 150 assets from graph\n",
      "\n",
      "============================================================\n",
      "PORTFOLIO OPTIMIZATION - 150 Assets\n",
      "Solver: GPT\n",
      "============================================================\n",
      "\n",
      "Partitioning into 21 clusters...\n",
      "Maximum partition size: 14\n"
     ]
    },
    {
     "name": "stderr",
     "output_type": "stream",
     "text": [
      "c:\\Users\\marlo\\anaconda3\\envs\\JPMorganChallenge2\\Lib\\site-packages\\sklearn\\cluster\\_kmeans.py:1419: UserWarning: KMeans is known to have a memory leak on Windows with MKL, when there are less chunks than available threads. You can avoid it by setting the environment variable OMP_NUM_THREADS=1.\n",
      "  warnings.warn(\n"
     ]
    },
    {
     "name": "stdout",
     "output_type": "stream",
     "text": [
      "Created 27 partitions\n",
      "Partition sizes: [14, 1, 1, 14, 11, 3, 3, 2, 2, 1, 14, 14, 14, 14, 5, 6, 6, 4, 1, 8, 2, 4, 1, 1, 2, 1, 1]\n",
      "K distribution: [3, 1, 1, 2, 1, 1, 1, 1, 1, 1, 1, 1, 1, 1, 1, 1, 1, 1, 1, 1, 1, 1, 1, 1, 1, 1, 1] (total: 30)\n",
      "\n",
      "🌐 GLOBAL OPTIMIZATION (Heuristic Baseline)\n",
      "============================================================\n",
      "Computing classical baseline using heuristics...\n",
      "  Greedy: -252.5039\n",
      "  Simulated Annealing: -261.4436\n",
      "\n",
      "Best heuristic objective: -262.598038\n",
      "Selected 30 assets\n",
      "\n",
      "⚙️ CLASSICAL PARTITIONED BASELINE\n",
      "============================================================\n",
      "\n",
      "🔗 CLASSICAL PIPELINE OPTIMIZATION\n",
      "============================================================\n",
      "Partition 1: selected 3 assets\n",
      "Partition 2: selected 1 assets\n",
      "Partition 3: selected 1 assets\n",
      "Partition 4: selected 2 assets\n",
      "Partition 5: selected 1 assets\n",
      "Partition 6: selected 1 assets\n",
      "Partition 7: selected 1 assets\n",
      "Partition 8: selected 1 assets\n",
      "Partition 9: selected 1 assets\n",
      "Partition 10: selected 1 assets\n",
      "Partition 11: selected 1 assets\n",
      "Partition 12: selected 1 assets\n",
      "Partition 13: selected 1 assets\n",
      "Partition 14: selected 1 assets\n",
      "Partition 15: selected 1 assets\n",
      "Partition 16: selected 1 assets\n",
      "Partition 17: selected 1 assets\n",
      "Partition 18: selected 1 assets\n",
      "Partition 19: selected 1 assets\n",
      "Partition 20: selected 1 assets\n",
      "Partition 21: selected 1 assets\n",
      "Partition 22: selected 1 assets\n",
      "Partition 23: selected 1 assets\n",
      "Partition 24: selected 1 assets\n",
      "Partition 25: selected 1 assets\n",
      "Partition 26: selected 1 assets\n",
      "Partition 27: selected 1 assets\n",
      "\n",
      "Classical partitioned objective: 1.472831\n",
      "Time: 4.30s\n"
     ]
    },
    {
     "ename": "ImportError",
     "evalue": "GPT modules not available.",
     "output_type": "error",
     "traceback": [
      "\u001b[31m---------------------------------------------------------------------------\u001b[39m",
      "\u001b[31mImportError\u001b[39m                               Traceback (most recent call last)",
      "\u001b[36mCell\u001b[39m\u001b[36m \u001b[39m\u001b[32mIn[11]\u001b[39m\u001b[32m, line 3\u001b[39m\n\u001b[32m      1\u001b[39m \u001b[38;5;28;01mfrom\u001b[39;00m\u001b[38;5;250m \u001b[39m\u001b[34;01mpartitioning_with_gpt\u001b[39;00m\u001b[38;5;250m \u001b[39m\u001b[38;5;28;01mimport\u001b[39;00m main\n\u001b[32m----> \u001b[39m\u001b[32m3\u001b[39m results = \u001b[43mmain\u001b[49m\u001b[43m(\u001b[49m\n\u001b[32m      4\u001b[39m \u001b[43m    \u001b[49m\u001b[43mgraph_path\u001b[49m\u001b[43m=\u001b[49m\u001b[33;43m\"\u001b[39;49m\u001b[33;43mbenchmarking graphs\u001b[39;49m\u001b[33;43m\\\u001b[39;49m\u001b[33;43msubgraph_150.pickle\u001b[39;49m\u001b[33;43m\"\u001b[39;49m\u001b[43m,\u001b[49m\n\u001b[32m      5\u001b[39m \u001b[43m    \u001b[49m\u001b[43mn_partitions\u001b[49m\u001b[43m=\u001b[49m\u001b[32;43m21\u001b[39;49m\u001b[43m,\u001b[49m\n\u001b[32m      6\u001b[39m \u001b[43m    \u001b[49m\u001b[43mmax_partition_size\u001b[49m\u001b[43m=\u001b[49m\u001b[32;43m14\u001b[39;49m\u001b[43m,\u001b[49m\n\u001b[32m      7\u001b[39m \u001b[43m    \u001b[49m\u001b[43mK_total\u001b[49m\u001b[43m=\u001b[49m\u001b[32;43m30\u001b[39;49m\u001b[43m,\u001b[49m\n\u001b[32m      8\u001b[39m \u001b[43m    \u001b[49m\u001b[43msolver\u001b[49m\u001b[43m=\u001b[49m\u001b[33;43m\"\u001b[39;49m\u001b[33;43mgpt\u001b[39;49m\u001b[33;43m\"\u001b[39;49m\u001b[43m,\u001b[49m\n\u001b[32m      9\u001b[39m \u001b[43m    \u001b[49m\u001b[43msave_results\u001b[49m\u001b[43m=\u001b[49m\u001b[38;5;28;43;01mTrue\u001b[39;49;00m\u001b[43m,\u001b[49m\n\u001b[32m     10\u001b[39m \u001b[43m    \u001b[49m\u001b[43moutput_dir\u001b[49m\u001b[43m=\u001b[49m\u001b[33;43m\"\u001b[39;49m\u001b[33;43mPipeline Experiments\u001b[39;49m\u001b[33;43m\\\u001b[39;49m\u001b[33;43mGPT_partition2_5\u001b[39;49m\u001b[33;43m\"\u001b[39;49m\u001b[43m,\u001b[49m\n\u001b[32m     11\u001b[39m \u001b[43m    \u001b[49m\u001b[43mq\u001b[49m\u001b[43m=\u001b[49m\u001b[32;43m0.5\u001b[39;49m\u001b[43m,\u001b[49m\n\u001b[32m     12\u001b[39m \u001b[43m    \u001b[49m\u001b[43mgpt_model_id\u001b[49m\u001b[43m=\u001b[49m\u001b[33;43m\"\u001b[39;49m\u001b[33;43m50m_old\u001b[39;49m\u001b[33;43m\"\u001b[39;49m\u001b[43m,\u001b[49m\n\u001b[32m     13\u001b[39m \u001b[43m)\u001b[49m\n",
      "\u001b[36mFile \u001b[39m\u001b[32mc:\\Users\\marlo\\OneDrive\\School\\Hackathons\\GIC JPMorgan 2025\\Submission Repo\\JPMorgan-Challenge-Submission\\benchmarks\\../partitioning\\partitioning_with_gpt.py:992\u001b[39m, in \u001b[36mmain\u001b[39m\u001b[34m(graph_path, output_dir, n_partitions, K_total, q, max_partition_size, solver, gpt_model_id, gpt_device, gpt_cached, save_results, results_prefix)\u001b[39m\n\u001b[32m    986\u001b[39m     \u001b[38;5;28mprint\u001b[39m(\n\u001b[32m    987\u001b[39m         \u001b[33mf\u001b[39m\u001b[33m\"\u001b[39m\u001b[33m    Poor (AR ≤ 0.5): \u001b[39m\u001b[38;5;132;01m{\u001b[39;00m\u001b[38;5;28msum\u001b[39m(\u001b[32m1\u001b[39m\u001b[38;5;250m \u001b[39m\u001b[38;5;28;01mfor\u001b[39;00m\u001b[38;5;250m \u001b[39mr\u001b[38;5;250m \u001b[39m\u001b[38;5;129;01min\u001b[39;00m\u001b[38;5;250m \u001b[39mratios\u001b[38;5;250m \u001b[39m\u001b[38;5;28;01mif\u001b[39;00m\u001b[38;5;250m \u001b[39mr\u001b[38;5;250m \u001b[39m<=\u001b[38;5;250m \u001b[39m\u001b[32m0.5\u001b[39m)\u001b[38;5;132;01m}\u001b[39;00m\u001b[33m partitions\u001b[39m\u001b[33m\"\u001b[39m\n\u001b[32m    988\u001b[39m     )\n\u001b[32m    990\u001b[39m \u001b[38;5;28mprint\u001b[39m(\u001b[33mf\u001b[39m\u001b[33m\"\u001b[39m\u001b[38;5;130;01m\\n\u001b[39;00m\u001b[33m🏆 GLOBAL PORTFOLIO (\u001b[39m\u001b[38;5;132;01m{\u001b[39;00m\u001b[38;5;28mlen\u001b[39m(results.global_solution)\u001b[38;5;132;01m}\u001b[39;00m\u001b[33m assets):\u001b[39m\u001b[33m\"\u001b[39m)\n\u001b[32m    991\u001b[39m \u001b[38;5;28mprint\u001b[39m(\n\u001b[32m--> \u001b[39m\u001b[32m992\u001b[39m     \u001b[33m\"\u001b[39m\u001b[33m, \u001b[39m\u001b[33m\"\u001b[39m.join(results.global_tickers[:\u001b[32m10\u001b[39m])\n\u001b[32m    993\u001b[39m     + (\u001b[33m\"\u001b[39m\u001b[33m...\u001b[39m\u001b[33m\"\u001b[39m \u001b[38;5;28;01mif\u001b[39;00m \u001b[38;5;28mlen\u001b[39m(results.global_tickers) > \u001b[32m10\u001b[39m \u001b[38;5;28;01melse\u001b[39;00m \u001b[33m\"\u001b[39m\u001b[33m\"\u001b[39m)\n\u001b[32m    994\u001b[39m )\n\u001b[32m    996\u001b[39m \u001b[38;5;28mprint\u001b[39m(\n\u001b[32m    997\u001b[39m     \u001b[33mf\u001b[39m\u001b[33m\"\u001b[39m\u001b[38;5;130;01m\\n\u001b[39;00m\u001b[33m🔗 \u001b[39m\u001b[38;5;132;01m{\u001b[39;00mresults.solver_type.upper()\u001b[38;5;132;01m}\u001b[39;00m\u001b[33m PORTFOLIO (\u001b[39m\u001b[38;5;132;01m{\u001b[39;00m\u001b[38;5;28mlen\u001b[39m(results.pipeline_solution)\u001b[38;5;132;01m}\u001b[39;00m\u001b[33m assets):\u001b[39m\u001b[33m\"\u001b[39m\n\u001b[32m    998\u001b[39m )\n\u001b[32m    999\u001b[39m \u001b[38;5;28mprint\u001b[39m(\n\u001b[32m   1000\u001b[39m     \u001b[33m\"\u001b[39m\u001b[33m, \u001b[39m\u001b[33m\"\u001b[39m.join(results.pipeline_tickers[:\u001b[32m10\u001b[39m])\n\u001b[32m   1001\u001b[39m     + (\u001b[33m\"\u001b[39m\u001b[33m...\u001b[39m\u001b[33m\"\u001b[39m \u001b[38;5;28;01mif\u001b[39;00m \u001b[38;5;28mlen\u001b[39m(results.pipeline_tickers) > \u001b[32m10\u001b[39m \u001b[38;5;28;01melse\u001b[39;00m \u001b[33m\"\u001b[39m\u001b[33m\"\u001b[39m)\n\u001b[32m   1002\u001b[39m )\n",
      "\u001b[36mFile \u001b[39m\u001b[32mc:\\Users\\marlo\\OneDrive\\School\\Hackathons\\GIC JPMorgan 2025\\Submission Repo\\JPMorgan-Challenge-Submission\\benchmarks\\../partitioning\\partitioning_with_gpt.py:769\u001b[39m, in \u001b[36mrun_optimization\u001b[39m\u001b[34m(self, n_partitions, K_total, q, max_partition_size, solver, gpt_model_id, gpt_device, gpt_cached)\u001b[39m\n\u001b[32m    764\u001b[39m     \u001b[38;5;28;01mcontinue\u001b[39;00m\n\u001b[32m    766\u001b[39m \u001b[38;5;66;03m# Proportional allocation\u001b[39;00m\n\u001b[32m    767\u001b[39m k_i = \u001b[38;5;28mint\u001b[39m(\n\u001b[32m    768\u001b[39m     np.round(K_total * partition_size_actual / total_partition_assets)\n\u001b[32m--> \u001b[39m\u001b[32m769\u001b[39m )\n\u001b[32m    771\u001b[39m \u001b[38;5;66;03m# Ensure k_i is valid: 0 < k_i <= partition_size\u001b[39;00m\n\u001b[32m    772\u001b[39m k_i = \u001b[38;5;28mmax\u001b[39m(\u001b[32m1\u001b[39m, \u001b[38;5;28mmin\u001b[39m(k_i, partition_size_actual))\n",
      "\u001b[36mFile \u001b[39m\u001b[32mc:\\Users\\marlo\\OneDrive\\School\\Hackathons\\GIC JPMorgan 2025\\Submission Repo\\JPMorgan-Challenge-Submission\\benchmarks\\../partitioning\\partitioning_with_gpt.py:493\u001b[39m, in \u001b[36msolve_with_gpt\u001b[39m\u001b[34m(self, partitioned_mus, partitioned_sigmas, mappings, K_per_partition, q, model_id, device, cached)\u001b[39m\n\u001b[32m    491\u001b[39m         x_temp = np.zeros(n)\n\u001b[32m    492\u001b[39m         x_temp[\u001b[38;5;28mlist\u001b[39m(selected)] = \u001b[32m1\u001b[39m\n\u001b[32m--> \u001b[39m\u001b[32m493\u001b[39m         obj = \u001b[38;5;28mself\u001b[39m.portfolio_objective(x_temp, sigma, mu, q)\n\u001b[32m    494\u001b[39m         worst_objective = \u001b[38;5;28mmax\u001b[39m(worst_objective, obj)\n\u001b[32m    495\u001b[39m \u001b[38;5;28;01melse\u001b[39;00m:\n\u001b[32m    496\u001b[39m     \u001b[38;5;66;03m# Sample for approximation\u001b[39;00m\n",
      "\u001b[31mImportError\u001b[39m: GPT modules not available."
     ]
    }
   ],
   "source": [
    "from partitioning_with_gpt import main\n",
    "\n",
    "results = main(\n",
    "    graph_path=\"benchmarking graphs\\subgraph_150.pickle\",\n",
    "    n_partitions=21,\n",
    "    max_partition_size=14,\n",
    "    K_total=30,\n",
    "    solver=\"gpt\",\n",
    "    save_results=True,\n",
    "    output_dir=\"Pipeline Experiments\\GPT_partition2_5\",\n",
    "    q=0.5,\n",
    "    gpt_model_id=\"50m_old\",\n",
    ")"
   ]
  },
  {
   "cell_type": "code",
   "execution_count": null,
   "id": "f04a7254",
   "metadata": {},
   "outputs": [],
   "source": [
    "results"
   ]
  }
 ],
 "metadata": {
  "kernelspec": {
   "display_name": "JPMorganChallenge2",
   "language": "python",
   "name": "python3"
  },
  "language_info": {
   "codemirror_mode": {
    "name": "ipython",
    "version": 3
   },
   "file_extension": ".py",
   "mimetype": "text/x-python",
   "name": "python",
   "nbconvert_exporter": "python",
   "pygments_lexer": "ipython3",
   "version": "3.11.13"
  }
 },
 "nbformat": 4,
 "nbformat_minor": 5
}
