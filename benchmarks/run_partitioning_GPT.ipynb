{
 "cells": [
  {
   "cell_type": "code",
   "execution_count": 1,
   "id": "d3132c5d",
   "metadata": {},
   "outputs": [],
   "source": [
    "import sys\n",
    "sys.path.append(\"../partitioning\")"
   ]
  },
  {
   "cell_type": "code",
   "execution_count": 2,
   "id": "c70e6c04",
   "metadata": {},
   "outputs": [
    {
     "name": "stdout",
     "output_type": "stream",
     "text": [
      "Warning: GPT modules not available. GPT solving will be disabled.\n",
      "Warning: graph_partitioning module not available. Using local implementation.\n",
      "Loading graph from subgraph_150.pickle...\n"
     ]
    },
    {
     "ename": "FileNotFoundError",
     "evalue": "[Errno 2] No such file or directory: 'subgraph_150.pickle'",
     "output_type": "error",
     "traceback": [
      "\u001b[31m---------------------------------------------------------------------------\u001b[39m",
      "\u001b[31mFileNotFoundError\u001b[39m                         Traceback (most recent call last)",
      "\u001b[36mCell\u001b[39m\u001b[36m \u001b[39m\u001b[32mIn[2]\u001b[39m\u001b[32m, line 3\u001b[39m\n\u001b[32m      1\u001b[39m \u001b[38;5;28;01mfrom\u001b[39;00m\u001b[38;5;250m \u001b[39m\u001b[34;01mpartitioning_with_gpt\u001b[39;00m\u001b[38;5;250m \u001b[39m\u001b[38;5;28;01mimport\u001b[39;00m main\n\u001b[32m----> \u001b[39m\u001b[32m3\u001b[39m results = \u001b[43mmain\u001b[49m\u001b[43m(\u001b[49m\n\u001b[32m      4\u001b[39m \u001b[43m    \u001b[49m\u001b[43mgraph_path\u001b[49m\u001b[43m=\u001b[49m\u001b[33;43m\"\u001b[39;49m\u001b[33;43msubgraph_150.pickle\u001b[39;49m\u001b[33;43m\"\u001b[39;49m\u001b[43m,\u001b[49m\n\u001b[32m      5\u001b[39m \u001b[43m    \u001b[49m\u001b[43mn_partitions\u001b[49m\u001b[43m=\u001b[49m\u001b[32;43m21\u001b[39;49m\u001b[43m,\u001b[49m\n\u001b[32m      6\u001b[39m \u001b[43m    \u001b[49m\u001b[43mmax_partition_size\u001b[49m\u001b[43m=\u001b[49m\u001b[32;43m14\u001b[39;49m\u001b[43m,\u001b[49m\n\u001b[32m      7\u001b[39m \u001b[43m    \u001b[49m\u001b[43mK_total\u001b[49m\u001b[43m=\u001b[49m\u001b[32;43m30\u001b[39;49m\u001b[43m,\u001b[49m\n\u001b[32m      8\u001b[39m \u001b[43m    \u001b[49m\u001b[43msolver\u001b[49m\u001b[43m=\u001b[49m\u001b[33;43m\"\u001b[39;49m\u001b[33;43mgpt\u001b[39;49m\u001b[33;43m\"\u001b[39;49m\u001b[43m,\u001b[49m\n\u001b[32m      9\u001b[39m \u001b[43m    \u001b[49m\u001b[43msave_results\u001b[49m\u001b[43m=\u001b[49m\u001b[38;5;28;43;01mTrue\u001b[39;49;00m\u001b[43m,\u001b[49m\n\u001b[32m     10\u001b[39m \u001b[43m    \u001b[49m\u001b[43moutput_dir\u001b[49m\u001b[43m=\u001b[49m\u001b[33;43m\"\u001b[39;49m\u001b[33;43mPipeline Experiments\u001b[39;49m\u001b[33;43m\\\u001b[39;49m\u001b[33;43mGPT_partition2_5\u001b[39;49m\u001b[33;43m\"\u001b[39;49m\u001b[43m,\u001b[49m\n\u001b[32m     11\u001b[39m \u001b[43m    \u001b[49m\u001b[43mq\u001b[49m\u001b[43m=\u001b[49m\u001b[32;43m0.5\u001b[39;49m\u001b[43m,\u001b[49m\n\u001b[32m     12\u001b[39m \u001b[43m    \u001b[49m\u001b[43mgpt_model_id\u001b[49m\u001b[43m=\u001b[49m\u001b[33;43m\"\u001b[39;49m\u001b[33;43m50m_old\u001b[39;49m\u001b[33;43m\"\u001b[39;49m\u001b[43m,\u001b[49m\n\u001b[32m     13\u001b[39m \u001b[43m)\u001b[49m\n",
      "\u001b[36mFile \u001b[39m\u001b[32mc:\\Users\\marlo\\OneDrive\\School\\Hackathons\\GIC JPMorgan 2025\\Submission Repo\\JPMorgan-Challenge-Submission\\benchmarks\\../partitioning\\partitioning_with_gpt.py:989\u001b[39m, in \u001b[36mmain\u001b[39m\u001b[34m(graph_path, output_dir, n_partitions, K_total, q, max_partition_size, solver, gpt_model_id, gpt_device, gpt_cached, save_results, results_prefix)\u001b[39m\n\u001b[32m    968\u001b[39m \u001b[38;5;250m\u001b[39m\u001b[33;03m\"\"\"\u001b[39;00m\n\u001b[32m    969\u001b[39m \u001b[33;03mMain function to run portfolio optimization with partitioning.\u001b[39;00m\n\u001b[32m    970\u001b[39m \u001b[33;03m\u001b[39;00m\n\u001b[32m   (...)\u001b[39m\u001b[32m    986\u001b[39m \u001b[33;03m    OptimizationResults object\u001b[39;00m\n\u001b[32m    987\u001b[39m \u001b[33;03m\"\"\"\u001b[39;00m\n\u001b[32m    988\u001b[39m \u001b[38;5;66;03m# Initialize optimizer\u001b[39;00m\n\u001b[32m--> \u001b[39m\u001b[32m989\u001b[39m optimizer = \u001b[43mPortfolioOptimizerWithGPT\u001b[49m\u001b[43m(\u001b[49m\u001b[43mgraph_path\u001b[49m\u001b[43m,\u001b[49m\u001b[43m \u001b[49m\u001b[43moutput_dir\u001b[49m\u001b[43m)\u001b[49m\n\u001b[32m    991\u001b[39m \u001b[38;5;66;03m# Run optimization\u001b[39;00m\n\u001b[32m    992\u001b[39m results = optimizer.run_optimization(\n\u001b[32m    993\u001b[39m     n_partitions=n_partitions,\n\u001b[32m    994\u001b[39m     K_total=K_total,\n\u001b[32m   (...)\u001b[39m\u001b[32m   1000\u001b[39m     gpt_cached=gpt_cached\n\u001b[32m   1001\u001b[39m )\n",
      "\u001b[36mFile \u001b[39m\u001b[32mc:\\Users\\marlo\\OneDrive\\School\\Hackathons\\GIC JPMorgan 2025\\Submission Repo\\JPMorgan-Challenge-Submission\\benchmarks\\../partitioning\\partitioning_with_gpt.py:76\u001b[39m, in \u001b[36mPortfolioOptimizerWithGPT.__init__\u001b[39m\u001b[34m(self, graph_path, output_dir)\u001b[39m\n\u001b[32m     73\u001b[39m os.makedirs(output_dir, exist_ok=\u001b[38;5;28;01mTrue\u001b[39;00m)\n\u001b[32m     75\u001b[39m \u001b[38;5;66;03m# Load graph and extract data\u001b[39;00m\n\u001b[32m---> \u001b[39m\u001b[32m76\u001b[39m \u001b[38;5;28;43mself\u001b[39;49m\u001b[43m.\u001b[49m\u001b[43m_load_graph\u001b[49m\u001b[43m(\u001b[49m\u001b[43m)\u001b[49m\n",
      "\u001b[36mFile \u001b[39m\u001b[32mc:\\Users\\marlo\\OneDrive\\School\\Hackathons\\GIC JPMorgan 2025\\Submission Repo\\JPMorgan-Challenge-Submission\\benchmarks\\../partitioning\\partitioning_with_gpt.py:82\u001b[39m, in \u001b[36mPortfolioOptimizerWithGPT._load_graph\u001b[39m\u001b[34m(self)\u001b[39m\n\u001b[32m     79\u001b[39m \u001b[38;5;250m\u001b[39m\u001b[33;03m\"\"\"Load graph from pickle file and extract necessary data\"\"\"\u001b[39;00m\n\u001b[32m     80\u001b[39m \u001b[38;5;28mprint\u001b[39m(\u001b[33mf\u001b[39m\u001b[33m\"\u001b[39m\u001b[33mLoading graph from \u001b[39m\u001b[38;5;132;01m{\u001b[39;00m\u001b[38;5;28mself\u001b[39m.graph_path\u001b[38;5;132;01m}\u001b[39;00m\u001b[33m...\u001b[39m\u001b[33m\"\u001b[39m)\n\u001b[32m---> \u001b[39m\u001b[32m82\u001b[39m \u001b[38;5;28;01mwith\u001b[39;00m \u001b[38;5;28;43mopen\u001b[39;49m\u001b[43m(\u001b[49m\u001b[38;5;28;43mself\u001b[39;49m\u001b[43m.\u001b[49m\u001b[43mgraph_path\u001b[49m\u001b[43m,\u001b[49m\u001b[43m \u001b[49m\u001b[33;43m'\u001b[39;49m\u001b[33;43mrb\u001b[39;49m\u001b[33;43m'\u001b[39;49m\u001b[43m)\u001b[49m \u001b[38;5;28;01mas\u001b[39;00m f:\n\u001b[32m     83\u001b[39m     \u001b[38;5;28mself\u001b[39m.graph = pickle.load(f)\n\u001b[32m     85\u001b[39m \u001b[38;5;66;03m# Extract assets and build matrices\u001b[39;00m\n",
      "\u001b[31mFileNotFoundError\u001b[39m: [Errno 2] No such file or directory: 'subgraph_150.pickle'"
     ]
    }
   ],
   "source": [
    "from partitioning_with_gpt import main\n",
    "\n",
    "results = main(\n",
    "    graph_path=\"subgraph_150.pickle\",\n",
    "    n_partitions=21,\n",
    "    max_partition_size=14,\n",
    "    K_total=30,\n",
    "    solver=\"gpt\",\n",
    "    save_results=True,\n",
    "    output_dir=\"Pipeline Experiments\\GPT_partition2_5\",\n",
    "    q=0.5,\n",
    "    gpt_model_id=\"50m_old\",\n",
    ")"
   ]
  },
  {
   "cell_type": "code",
   "execution_count": null,
   "id": "f04a7254",
   "metadata": {},
   "outputs": [],
   "source": [
    "results"
   ]
  }
 ],
 "metadata": {
  "kernelspec": {
   "display_name": "JPMorganChallenge2",
   "language": "python",
   "name": "python3"
  },
  "language_info": {
   "codemirror_mode": {
    "name": "ipython",
    "version": 3
   },
   "file_extension": ".py",
   "mimetype": "text/x-python",
   "name": "python",
   "nbconvert_exporter": "python",
   "pygments_lexer": "ipython3",
   "version": "3.11.13"
  }
 },
 "nbformat": 4,
 "nbformat_minor": 5
}
