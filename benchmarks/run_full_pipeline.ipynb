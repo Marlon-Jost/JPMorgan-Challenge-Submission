{
 "cells": [
  {
   "cell_type": "code",
   "execution_count": 2,
   "id": "5b20aa1d",
   "metadata": {},
   "outputs": [],
   "source": [
    "import os\n",
    "\n",
    "os.chdir(\"..\")"
   ]
  },
  {
   "cell_type": "code",
   "execution_count": 4,
   "id": "e54067aa",
   "metadata": {},
   "outputs": [],
   "source": [
    "from partitioning.full_pipeline import main"
   ]
  },
  {
   "cell_type": "code",
   "execution_count": 5,
   "id": "94c7364c",
   "metadata": {},
   "outputs": [
    {
     "name": "stderr",
     "output_type": "stream",
     "text": [
      "usage: ipykernel_launcher.py [-h] [--partition-size PARTITION_SIZE]\n",
      "                             [--max-partition-size MAX_PARTITION_SIZE]\n",
      "                             [--k-total K_TOTAL]\n",
      "                             [--risk-aversion RISK_AVERSION]\n",
      "                             [--qaoa-depth QAOA_DEPTH] [--gpt-model GPT_MODEL]\n",
      "                             [--gpt-device GPT_DEVICE]\n",
      "                             [--output-dir OUTPUT_DIR]\n",
      "                             graph_path\n",
      "ipykernel_launcher.py: error: the following arguments are required: graph_path\n"
     ]
    },
    {
     "ename": "SystemExit",
     "evalue": "2",
     "output_type": "error",
     "traceback": [
      "An exception has occurred, use %tb to see the full traceback.\n",
      "\u001b[31mSystemExit\u001b[39m\u001b[31m:\u001b[39m 2\n"
     ]
    },
    {
     "name": "stderr",
     "output_type": "stream",
     "text": [
      "c:\\Users\\marlo\\anaconda3\\envs\\JPMorganChallenge2\\Lib\\site-packages\\IPython\\core\\interactiveshell.py:3707: UserWarning: To exit: use 'exit', 'quit', or Ctrl-D.\n",
      "  warn(\"To exit: use 'exit', 'quit', or Ctrl-D.\", stacklevel=1)\n"
     ]
    }
   ],
   "source": [
    "results = main()"
   ]
  }
 ],
 "metadata": {
  "kernelspec": {
   "display_name": "JPMorganChallenge2",
   "language": "python",
   "name": "python3"
  },
  "language_info": {
   "codemirror_mode": {
    "name": "ipython",
    "version": 3
   },
   "file_extension": ".py",
   "mimetype": "text/x-python",
   "name": "python",
   "nbconvert_exporter": "python",
   "pygments_lexer": "ipython3",
   "version": "3.11.13"
  }
 },
 "nbformat": 4,
 "nbformat_minor": 5
}
