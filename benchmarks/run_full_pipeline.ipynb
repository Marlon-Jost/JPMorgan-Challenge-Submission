{
 "cells": [
  {
   "cell_type": "code",
   "execution_count": 21,
   "id": "659567af",
   "metadata": {},
   "outputs": [],
   "source": [
    "import sys\n",
    "\n",
    "sys.path.append(\"../partitioning\")\n",
    "sys.path.append(\"../benchmarks/benchmarking graphs\")"
   ]
  },
  {
   "cell_type": "code",
   "execution_count": 22,
   "id": "e54067aa",
   "metadata": {},
   "outputs": [],
   "source": [
    "from full_pipeline import UnifiedPortfolioOptimizer"
   ]
  },
  {
   "cell_type": "code",
   "execution_count": 23,
   "id": "63ff0db0",
   "metadata": {},
   "outputs": [],
   "source": [
    "optimizer = UnifiedPortfolioOptimizer(\n",
    "    \"benchmarking graphs\\subgraph_150.pickle\"\n",
    ")"
   ]
  },
  {
   "cell_type": "code",
   "execution_count": 24,
   "id": "94c7364c",
   "metadata": {},
   "outputs": [
    {
     "name": "stdout",
     "output_type": "stream",
     "text": [
      "\n",
      "================================================================================\n",
      "PORTFOLIO OPTIMIZATION COMPARISON - 150 Assets\n",
      "================================================================================\n",
      "\n",
      "Partitioning into ~15-asset subproblems...\n",
      "Maximum partition size: 20\n"
     ]
    },
    {
     "name": "stderr",
     "output_type": "stream",
     "text": [
      "c:\\Users\\marlo\\anaconda3\\envs\\JPMorganChallenge2\\Lib\\site-packages\\sklearn\\cluster\\_kmeans.py:1419: UserWarning: KMeans is known to have a memory leak on Windows with MKL, when there are less chunks than available threads. You can avoid it by setting the environment variable OMP_NUM_THREADS=1.\n",
      "  warnings.warn(\n"
     ]
    },
    {
     "name": "stdout",
     "output_type": "stream",
     "text": [
      "Created 13 partitions\n",
      "Partition sizes: [20, 3, 20, 4, 18, 6, 20, 4, 12, 15, 15, 4, 9]\n",
      "K distribution: [5, 0, 5, 1, 4, 1, 5, 1, 3, 4, 4, 1, 6] (total: 40)\n",
      "\n",
      "------------------------------------------------------------\n",
      "CLASSICAL GLOBAL OPTIMIZATION\n",
      "------------------------------------------------------------\n",
      "Objective: -383.074806\n",
      "Time: 0.84s\n",
      "\n",
      "------------------------------------------------------------\n",
      "CLASSICAL PARTITIONED OPTIMIZATION\n",
      "------------------------------------------------------------\n",
      "Objective: -9.510632\n",
      "vs Global: +97.5%\n",
      "Time: 0.46s\n",
      "\n",
      "================================================================================\n",
      "FINAL COMPARISON SUMMARY\n",
      "================================================================================\n",
      "\n",
      "Problem: 150 assets, 13 partitions, K=40\n",
      "\n",
      "📊 OBJECTIVE VALUES (lower is better):\n",
      "  Classical Global:      -383.074806 (baseline)\n",
      "  Classical Partitioned: -9.510632 (+97.5%)\n",
      "\n",
      "📈 APPROXIMATION RATIOS (higher is better):\n",
      "\n",
      "⏱️ COMPUTATION TIME:\n",
      "  Classical:   1.31s\n",
      "\n",
      "🔬 QUANTUM ADVANTAGE ANALYSIS:\n",
      "\n",
      "📝 Classical partitioned approach currently outperforms quantum methods.\n"
     ]
    }
   ],
   "source": [
    "results = optimizer.run_comparison(\n",
    "    partition_size=15, K_total=40, q=0.5, p=5, max_partition_size=20\n",
    ")"
   ]
  },
  {
   "cell_type": "code",
   "execution_count": 25,
   "id": "ff80d378",
   "metadata": {},
   "outputs": [
    {
     "name": "stdout",
     "output_type": "stream",
     "text": [
      "\n",
      "✅ Results saved to ./results/\n"
     ]
    },
    {
     "data": {
      "text/plain": [
       "'./results\\\\comparison_summary_20250713_211417.json'"
      ]
     },
     "execution_count": 25,
     "metadata": {},
     "output_type": "execute_result"
    }
   ],
   "source": [
    "optimizer.save_results(results, \"./results\")"
   ]
  },
  {
   "cell_type": "code",
   "execution_count": 26,
   "id": "303b1ead",
   "metadata": {},
   "outputs": [
    {
     "data": {
      "image/png": "[encoded data removed]",
      "text/plain": [
       "<Figure size 800x600 with 1 Axes>"
      ]
     },
     "metadata": {},
     "output_type": "display_data"
    }
   ],
   "source": [
    "import matplotlib.pyplot as plt\n",
    "\n",
    "methods = [\"Classical\\nGlobal\", \"Classical\\nPartitioned\"]\n",
    "objectives = [\n",
    "    results.classical_global_objective,\n",
    "    results.classical_partitioned_objective,\n",
    "]\n",
    "\n",
    "if results.qokit_objective:\n",
    "    methods.append(\"QOKit\")\n",
    "    objectives.append(results.qokit_objective)\n",
    "\n",
    "if results.gpt_objective:\n",
    "    methods.append(\"GPT\")\n",
    "    objectives.append(results.gpt_objective)\n",
    "\n",
    "plt.figure(figsize=(8, 6))\n",
    "plt.bar(methods, objectives)\n",
    "plt.ylabel(\"Objective Value\")\n",
    "plt.title(\"Portfolio Optimization Comparison\")\n",
    "plt.show()"
   ]
  }
 ],
 "metadata": {
  "kernelspec": {
   "display_name": "JPMorganChallenge2",
   "language": "python",
   "name": "python3"
  },
  "language_info": {
   "codemirror_mode": {
    "name": "ipython",
    "version": 3
   },
   "file_extension": ".py",
   "mimetype": "text/x-python",
   "name": "python",
   "nbconvert_exporter": "python",
   "pygments_lexer": "ipython3",
   "version": "3.11.13"
  }
 },
 "nbformat": 4,
 "nbformat_minor": 5
}
